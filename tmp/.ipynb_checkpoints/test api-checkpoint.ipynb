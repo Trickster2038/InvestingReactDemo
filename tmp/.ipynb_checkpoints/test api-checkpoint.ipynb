{
 "cells": [
  {
   "cell_type": "code",
   "execution_count": 11,
   "id": "64e0c44b",
   "metadata": {},
   "outputs": [
    {
     "name": "stdout",
     "output_type": "stream",
     "text": [
      "[<investpy.utils.search_obj.SearchObj object at 0x00000240EEF0FC10>, <investpy.utils.search_obj.SearchObj object at 0x00000240EEF0FC70>, <investpy.utils.search_obj.SearchObj object at 0x00000240EEF0FA00>, <investpy.utils.search_obj.SearchObj object at 0x00000240EEF0CDC0>, <investpy.utils.search_obj.SearchObj object at 0x00000240EEEBFE80>]\n"
     ]
    }
   ],
   "source": [
    "import investpy\n",
    "import json\n",
    "\n",
    "search_result = investpy.search_quotes(text='a', products=['stocks'],\n",
    "                                       countries=['united states'], n_results=5)\n",
    "print(search_result)"
   ]
  },
  {
   "cell_type": "code",
   "execution_count": 12,
   "id": "2e0857e6",
   "metadata": {},
   "outputs": [
    {
     "name": "stdout",
     "output_type": "stream",
     "text": [
      "{\"id_\": 8942, \"name\": \"Agilent Technologies Inc\", \"symbol\": \"A\", \"country\": \"united states\", \"tag\": \"/equities/agilent-tech\", \"pair_type\": \"stocks\", \"exchange\": \"NYSE\"}\n",
      "{\"id_\": 6408, \"name\": \"Apple Inc\", \"symbol\": \"AAPL\", \"country\": \"united states\", \"tag\": \"/equities/apple-computer-inc\", \"pair_type\": \"stocks\", \"exchange\": \"NASDAQ\"}\n",
      "{\"id_\": 243, \"name\": \"Bank of America Corp\", \"symbol\": \"BAC\", \"country\": \"united states\", \"tag\": \"/equities/bank-of-america\", \"pair_type\": \"stocks\", \"exchange\": \"NYSE\"}\n",
      "{\"id_\": 244, \"name\": \"AT&T Inc\", \"symbol\": \"T\", \"country\": \"united states\", \"tag\": \"/equities/at-t\", \"pair_type\": \"stocks\", \"exchange\": \"NYSE\"}\n",
      "{\"id_\": 267, \"name\": \"JPMorgan Chase & Co\", \"symbol\": \"JPM\", \"country\": \"united states\", \"tag\": \"/equities/jp-morgan-chase\", \"pair_type\": \"stocks\", \"exchange\": \"NYSE\"}\n"
     ]
    }
   ],
   "source": [
    "for x in search_result:\n",
    "    print(x)"
   ]
  },
  {
   "cell_type": "code",
   "execution_count": 19,
   "id": "f8a6fabb",
   "metadata": {},
   "outputs": [
    {
     "name": "stdout",
     "output_type": "stream",
     "text": [
      "{\n",
      "    \"stocks\": [\n",
      "        {\n",
      "            \"id_\": 8942,\n",
      "            \"name\": \"Agilent Technologies Inc\",\n",
      "            \"symbol\": \"A\",\n",
      "            \"country\": \"united states\",\n",
      "            \"tag\": \"/equities/agilent-tech\",\n",
      "            \"pair_type\": \"stocks\",\n",
      "            \"exchange\": \"NYSE\"\n",
      "        },\n",
      "        {\n",
      "            \"id_\": 6408,\n",
      "            \"name\": \"Apple Inc\",\n",
      "            \"symbol\": \"AAPL\",\n",
      "            \"country\": \"united states\",\n",
      "            \"tag\": \"/equities/apple-computer-inc\",\n",
      "            \"pair_type\": \"stocks\",\n",
      "            \"exchange\": \"NASDAQ\"\n",
      "        },\n",
      "        {\n",
      "            \"id_\": 243,\n",
      "            \"name\": \"Bank of America Corp\",\n",
      "            \"symbol\": \"BAC\",\n",
      "            \"country\": \"united states\",\n",
      "            \"tag\": \"/equities/bank-of-america\",\n",
      "            \"pair_type\": \"stocks\",\n",
      "            \"exchange\": \"NYSE\"\n",
      "        },\n",
      "        {\n",
      "            \"id_\": 244,\n",
      "            \"name\": \"AT&T Inc\",\n",
      "            \"symbol\": \"T\",\n",
      "            \"country\": \"united states\",\n",
      "            \"tag\": \"/equities/at-t\",\n",
      "            \"pair_type\": \"stocks\",\n",
      "            \"exchange\": \"NYSE\"\n",
      "        },\n",
      "        {\n",
      "            \"id_\": 267,\n",
      "            \"name\": \"JPMorgan Chase & Co\",\n",
      "            \"symbol\": \"JPM\",\n",
      "            \"country\": \"united states\",\n",
      "            \"tag\": \"/equities/jp-morgan-chase\",\n",
      "            \"pair_type\": \"stocks\",\n",
      "            \"exchange\": \"NYSE\"\n",
      "        }\n",
      "    ]\n",
      "}\n"
     ]
    }
   ],
   "source": [
    "a = []\n",
    "for x in search_result:\n",
    "    a.append(json.loads(str(x)))\n",
    "json1 = {'stocks':a}\n",
    "print(json.dumps(json1, indent=4))"
   ]
  },
  {
   "cell_type": "code",
   "execution_count": 10,
   "id": "900dd762",
   "metadata": {},
   "outputs": [
    {
     "name": "stdout",
     "output_type": "stream",
     "text": [
      "{\"id_\": 267, \"name\": \"JPMorgan Chase & Co\", \"symbol\": \"JPM\", \"country\": \"united states\", \"tag\": \"/equities/jp-morgan-chase\", \"pair_type\": \"stocks\", \"exchange\": \"NYSE\"}\n"
     ]
    }
   ],
   "source": [
    "search_result = investpy.search_quotes(text=\"JPM\", products=['stocks'],\n",
    "                                       countries=['united states'], n_results=1)\n",
    "print(search_result)"
   ]
  },
  {
   "cell_type": "code",
   "execution_count": null,
   "id": "043de4e7",
   "metadata": {},
   "outputs": [],
   "source": []
  }
 ],
 "metadata": {
  "kernelspec": {
   "display_name": "Python 3 (ipykernel)",
   "language": "python",
   "name": "python3"
  },
  "language_info": {
   "codemirror_mode": {
    "name": "ipython",
    "version": 3
   },
   "file_extension": ".py",
   "mimetype": "text/x-python",
   "name": "python",
   "nbconvert_exporter": "python",
   "pygments_lexer": "ipython3",
   "version": "3.10.0"
  }
 },
 "nbformat": 4,
 "nbformat_minor": 5
}
